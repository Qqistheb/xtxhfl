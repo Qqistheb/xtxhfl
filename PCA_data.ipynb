{
 "cells": [
  {
   "cell_type": "code",
   "execution_count": 2,
   "metadata": {},
   "outputs": [],
   "source": [
    "import pandas as pd\n",
    "import numpy as np\n",
    "import matplotlib.pyplot as plt"
   ]
  },
  {
   "cell_type": "code",
   "execution_count": 3,
   "metadata": {},
   "outputs": [],
   "source": [
    "df = pd.read_csv('heart_train.csv',index_col=0)\n",
    "df1 = pd.read_csv('heart_test.csv',index_col=0)"
   ]
  },
  {
   "cell_type": "code",
   "execution_count": 4,
   "metadata": {},
   "outputs": [
    {
     "name": "stdout",
     "output_type": "stream",
     "text": [
      "df导入数据的大小 (20000, 2)\n",
      "df清除信息有空值的数据： (20000, 2)\n",
      "df清除重复数据： (20000, 2)\n",
      "df1导入数据的大小 (8000, 2)\n",
      "df1清除信息有空值的数据： (8000, 2)\n",
      "df1清除重复数据： (8000, 2)\n"
     ]
    }
   ],
   "source": [
    "print('df导入数据的大小',df.shape)\n",
    "ed_data = df.dropna(axis=0)\n",
    "print('df清除信息有空值的数据：',ed_data.shape)\n",
    "ed_data.drop_duplicates(keep='last')\n",
    "print('df清除重复数据：',ed_data.shape)\n",
    "print('df1导入数据的大小',df1.shape)\n",
    "ed_data1 = df1.dropna(axis=0)\n",
    "print('df1清除信息有空值的数据：',ed_data1.shape)\n",
    "ed_data1.drop_duplicates(keep='last')\n",
    "print('df1清除重复数据：',ed_data1.shape)"
   ]
  },
  {
   "cell_type": "code",
   "execution_count": 5,
   "metadata": {},
   "outputs": [
    {
     "data": {
      "text/html": [
       "<div>\n",
       "<style scoped>\n",
       "    .dataframe tbody tr th:only-of-type {\n",
       "        vertical-align: middle;\n",
       "    }\n",
       "\n",
       "    .dataframe tbody tr th {\n",
       "        vertical-align: top;\n",
       "    }\n",
       "\n",
       "    .dataframe thead th {\n",
       "        text-align: right;\n",
       "    }\n",
       "</style>\n",
       "<table border=\"1\" class=\"dataframe\">\n",
       "  <thead>\n",
       "    <tr style=\"text-align: right;\">\n",
       "      <th></th>\n",
       "      <th>s_0</th>\n",
       "      <th>s_1</th>\n",
       "      <th>s_2</th>\n",
       "      <th>s_3</th>\n",
       "      <th>s_4</th>\n",
       "      <th>s_5</th>\n",
       "      <th>s_6</th>\n",
       "      <th>s_7</th>\n",
       "      <th>s_8</th>\n",
       "      <th>s_9</th>\n",
       "      <th>...</th>\n",
       "      <th>s_196</th>\n",
       "      <th>s_197</th>\n",
       "      <th>s_198</th>\n",
       "      <th>s_199</th>\n",
       "      <th>s_200</th>\n",
       "      <th>s_201</th>\n",
       "      <th>s_202</th>\n",
       "      <th>s_203</th>\n",
       "      <th>s_204</th>\n",
       "      <th>label</th>\n",
       "    </tr>\n",
       "  </thead>\n",
       "  <tbody>\n",
       "    <tr>\n",
       "      <th>0</th>\n",
       "      <td>0.000000</td>\n",
       "      <td>0.081528</td>\n",
       "      <td>0.169488</td>\n",
       "      <td>0.265317</td>\n",
       "      <td>0.383357</td>\n",
       "      <td>0.405093</td>\n",
       "      <td>0.415054</td>\n",
       "      <td>0.437824</td>\n",
       "      <td>0.433064</td>\n",
       "      <td>0.416850</td>\n",
       "      <td>...</td>\n",
       "      <td>0.0</td>\n",
       "      <td>0.0</td>\n",
       "      <td>0.0</td>\n",
       "      <td>0.0</td>\n",
       "      <td>0.0</td>\n",
       "      <td>0.0</td>\n",
       "      <td>0.0</td>\n",
       "      <td>0.0</td>\n",
       "      <td>0.0</td>\n",
       "      <td>2.0</td>\n",
       "    </tr>\n",
       "    <tr>\n",
       "      <th>1</th>\n",
       "      <td>1.000000</td>\n",
       "      <td>0.657398</td>\n",
       "      <td>0.712122</td>\n",
       "      <td>0.715697</td>\n",
       "      <td>0.704944</td>\n",
       "      <td>0.686842</td>\n",
       "      <td>0.623540</td>\n",
       "      <td>0.496277</td>\n",
       "      <td>0.352106</td>\n",
       "      <td>0.079853</td>\n",
       "      <td>...</td>\n",
       "      <td>0.0</td>\n",
       "      <td>0.0</td>\n",
       "      <td>0.0</td>\n",
       "      <td>0.0</td>\n",
       "      <td>0.0</td>\n",
       "      <td>0.0</td>\n",
       "      <td>0.0</td>\n",
       "      <td>0.0</td>\n",
       "      <td>0.0</td>\n",
       "      <td>3.0</td>\n",
       "    </tr>\n",
       "    <tr>\n",
       "      <th>2</th>\n",
       "      <td>0.978565</td>\n",
       "      <td>0.943660</td>\n",
       "      <td>0.903005</td>\n",
       "      <td>0.864413</td>\n",
       "      <td>0.810498</td>\n",
       "      <td>0.741020</td>\n",
       "      <td>0.650031</td>\n",
       "      <td>0.575838</td>\n",
       "      <td>0.495444</td>\n",
       "      <td>0.446333</td>\n",
       "      <td>...</td>\n",
       "      <td>0.0</td>\n",
       "      <td>0.0</td>\n",
       "      <td>0.0</td>\n",
       "      <td>0.0</td>\n",
       "      <td>0.0</td>\n",
       "      <td>0.0</td>\n",
       "      <td>0.0</td>\n",
       "      <td>0.0</td>\n",
       "      <td>0.0</td>\n",
       "      <td>3.0</td>\n",
       "    </tr>\n",
       "    <tr>\n",
       "      <th>3</th>\n",
       "      <td>1.000000</td>\n",
       "      <td>0.861803</td>\n",
       "      <td>0.425404</td>\n",
       "      <td>0.423682</td>\n",
       "      <td>0.427125</td>\n",
       "      <td>0.428843</td>\n",
       "      <td>0.408085</td>\n",
       "      <td>0.430560</td>\n",
       "      <td>0.427125</td>\n",
       "      <td>0.435697</td>\n",
       "      <td>...</td>\n",
       "      <td>0.0</td>\n",
       "      <td>0.0</td>\n",
       "      <td>0.0</td>\n",
       "      <td>0.0</td>\n",
       "      <td>0.0</td>\n",
       "      <td>0.0</td>\n",
       "      <td>0.0</td>\n",
       "      <td>0.0</td>\n",
       "      <td>0.0</td>\n",
       "      <td>0.0</td>\n",
       "    </tr>\n",
       "    <tr>\n",
       "      <th>4</th>\n",
       "      <td>1.000000</td>\n",
       "      <td>0.875879</td>\n",
       "      <td>0.297943</td>\n",
       "      <td>0.035750</td>\n",
       "      <td>0.114283</td>\n",
       "      <td>0.165898</td>\n",
       "      <td>0.175087</td>\n",
       "      <td>0.250918</td>\n",
       "      <td>0.285270</td>\n",
       "      <td>0.233431</td>\n",
       "      <td>...</td>\n",
       "      <td>0.0</td>\n",
       "      <td>0.0</td>\n",
       "      <td>0.0</td>\n",
       "      <td>0.0</td>\n",
       "      <td>0.0</td>\n",
       "      <td>0.0</td>\n",
       "      <td>0.0</td>\n",
       "      <td>0.0</td>\n",
       "      <td>0.0</td>\n",
       "      <td>1.0</td>\n",
       "    </tr>\n",
       "  </tbody>\n",
       "</table>\n",
       "<p>5 rows × 206 columns</p>\n",
       "</div>"
      ],
      "text/plain": [
       "        s_0       s_1       s_2       s_3       s_4       s_5       s_6  \\\n",
       "0  0.000000  0.081528  0.169488  0.265317  0.383357  0.405093  0.415054   \n",
       "1  1.000000  0.657398  0.712122  0.715697  0.704944  0.686842  0.623540   \n",
       "2  0.978565  0.943660  0.903005  0.864413  0.810498  0.741020  0.650031   \n",
       "3  1.000000  0.861803  0.425404  0.423682  0.427125  0.428843  0.408085   \n",
       "4  1.000000  0.875879  0.297943  0.035750  0.114283  0.165898  0.175087   \n",
       "\n",
       "        s_7       s_8       s_9  ...    s_196  s_197  s_198  s_199  s_200  \\\n",
       "0  0.437824  0.433064  0.416850  ...      0.0    0.0    0.0    0.0    0.0   \n",
       "1  0.496277  0.352106  0.079853  ...      0.0    0.0    0.0    0.0    0.0   \n",
       "2  0.575838  0.495444  0.446333  ...      0.0    0.0    0.0    0.0    0.0   \n",
       "3  0.430560  0.427125  0.435697  ...      0.0    0.0    0.0    0.0    0.0   \n",
       "4  0.250918  0.285270  0.233431  ...      0.0    0.0    0.0    0.0    0.0   \n",
       "\n",
       "   s_201  s_202  s_203  s_204  label  \n",
       "0    0.0    0.0    0.0    0.0    2.0  \n",
       "1    0.0    0.0    0.0    0.0    3.0  \n",
       "2    0.0    0.0    0.0    0.0    3.0  \n",
       "3    0.0    0.0    0.0    0.0    0.0  \n",
       "4    0.0    0.0    0.0    0.0    1.0  \n",
       "\n",
       "[5 rows x 206 columns]"
      ]
     },
     "execution_count": 5,
     "metadata": {},
     "output_type": "execute_result"
    }
   ],
   "source": [
    "train_list=[]\n",
    "for items in df.values:\n",
    "    train_list.append([float(i) for i in items[0].split(',')] + [items[1]])\n",
    "\n",
    "data = pd.DataFrame(np.array(train_list))\n",
    "data.columns = ['s_'+str(i) for i in range(len(train_list[0])-1)]+['label']\n",
    "# train = reduce_mem_usage(train)\n",
    "data.head(5)\n",
    "\n",
    "test_list=[]\n",
    "for items in df1.values:\n",
    "    test_list.append([float(i) for i in items[0].split(',')] + [items[1]])\n",
    "\n",
    "data1 = pd.DataFrame(np.array(test_list))\n",
    "data1.columns = ['s_'+str(i) for i in range(len(test_list[0])-1)]+['label']\n",
    "# train = reduce_mem_usage(train)\n",
    "data1.head(5)"
   ]
  },
  {
   "cell_type": "code",
   "execution_count": 6,
   "metadata": {},
   "outputs": [
    {
     "data": {
      "text/plain": [
       "0"
      ]
     },
     "execution_count": 6,
     "metadata": {},
     "output_type": "execute_result"
    }
   ],
   "source": [
    "data1.isnull().sum().sum()"
   ]
  },
  {
   "cell_type": "code",
   "execution_count": 7,
   "metadata": {},
   "outputs": [
    {
     "data": {
      "text/plain": [
       "0"
      ]
     },
     "execution_count": 7,
     "metadata": {},
     "output_type": "execute_result"
    }
   ],
   "source": [
    "data.isnull().sum().sum()"
   ]
  },
  {
   "cell_type": "code",
   "execution_count": 8,
   "metadata": {},
   "outputs": [],
   "source": [
    "from sklearn.model_selection import train_test_split"
   ]
  },
  {
   "cell_type": "code",
   "execution_count": 9,
   "metadata": {},
   "outputs": [],
   "source": [
    "feature_cols = [x for x in data.columns if x not in 'label']\n",
    "Xtrain = data[feature_cols]\n",
    "# features.values\n",
    "ytrain = data['label']\n",
    "Xtest = data1[feature_cols]\n",
    "ytest = data1['label']\n",
    "feature = pd.concat([Xtrain,Xtest])\n",
    "target = pd.concat([ytrain,ytest])\n",
    "# Xtrain,Xtest,ytrain,ytest=train_test_split(feature,target,test_size=0.3)"
   ]
  },
  {
   "cell_type": "code",
   "execution_count": 50,
   "metadata": {
    "scrolled": true
   },
   "outputs": [
    {
     "name": "stderr",
     "output_type": "stream",
     "text": [
      "No handles with labels found to put in legend.\n"
     ]
    },
    {
     "data": {
      "image/png": "[encoded data removed]",
      "text/plain": [
       "<Figure size 432x288 with 1 Axes>"
      ]
     },
     "metadata": {
      "needs_background": "light"
     },
     "output_type": "display_data"
    },
    {
     "name": "stdout",
     "output_type": "stream",
     "text": [
      "[0.43987194454802997, 0.5643820297344527, 0.6487622895077275, 0.6917972722354008, 0.7242678720962893, 0.7496973732335381, 0.7744514961330571, 0.7919528139805178, 0.8081586955495128, 0.823853920310568, 0.8383969680839797, 0.8501275376274395, 0.861050752073901]\n"
     ]
    }
   ],
   "source": [
    "from sklearn.decomposition import PCA\n",
    "pca = PCA(n_components=13)\n",
    "new_feature = pca.fit_transform(feature)\n",
    "# pca = PCA(n_components=20)\n",
    "# new_feature1 = pca.fit_transform(Xtest)\n",
    "#\n",
    "# inv_feature = pca.inverse_transform(feature)\n",
    "Xtrain,Xtest,ytrain,ytest=train_test_split(new_feature,target,test_size=0.3)\n",
    "def sum_all(x,confi=[]):\n",
    "    for i in range(len(x)):\n",
    "        confi.append(x[:i+1].sum())\n",
    "    return confi\n",
    "co = sum_all(pca.explained_variance_ratio_)\n",
    "x = list(range(len(co)))\n",
    "# \n",
    "plt.plot(x, co, 'b')\n",
    "plt.title('pca_weight')\n",
    "plt.xlabel('nums')\n",
    "plt.ylabel('sum_weight')\n",
    "\n",
    "plt.legend()\n",
    "plt.show()\n",
    "# plt.show()\n",
    "print(co)\n",
    "# print(sum(pca.explained_variance_ratio_))\n",
    "# new_feature.shape\n",
    "\n",
    "# from sklearn.preprocessing import StandardScaler\n",
    "# def normalization(df):\n",
    "#     numerator = df.sub(df.min())\n",
    "#     denominator = (df.max()).sub(df.min())\n",
    "#     Y = numerator.div(denominator)\n",
    "#     return Y\n",
    "# new_feature = pd.DataFrame(new_feature)\n",
    "\n",
    "# # new_feature = StandardScaler().fit_transform(new_feature)\n",
    "# new_feature = normalization(new_feature)"
   ]
  },
  {
   "cell_type": "code",
   "execution_count": 51,
   "metadata": {},
   "outputs": [],
   "source": [
    "# feature_cols = [x for x in data.columns if x not in 'label']\n",
    "# Xtrain = new_feature\n",
    "# # features.values\n",
    "# ytrain = data['label']\n",
    "# Xtest = new_feature1\n",
    "# ytest = data1['label']\n",
    "# # Xtrain,Xtest,ytrain,ytest=train_test_split(feature,target,test_size=0.3)"
   ]
  },
  {
   "cell_type": "code",
   "execution_count": 52,
   "metadata": {},
   "outputs": [],
   "source": [
    "from sklearn import tree\n",
    "dt = tree.DecisionTreeClassifier(criterion='entropy', max_depth=6,min_samples_leaf=18,\n",
    "                                  random_state=15)\n",
    "dt = dt.fit(Xtrain, ytrain)"
   ]
  },
  {
   "cell_type": "code",
   "execution_count": 53,
   "metadata": {},
   "outputs": [],
   "source": [
    "#定义一个函数measure_error，用于将四个数值组合到一起\n",
    "def measure_error(y_true, y_pred, label):\n",
    "    return pd.Series({'accuracy':accuracy_score(y_true, y_pred),\n",
    "                      'precision': precision_score(y_true, y_pred,average = 'macro'),\n",
    "                      'recall': recall_score(y_true, y_pred,average = 'macro'),\n",
    "                      'f1': f1_score(y_true, y_pred,average = 'macro')},\n",
    "                      name=label)"
   ]
  },
  {
   "cell_type": "code",
   "execution_count": 54,
   "metadata": {},
   "outputs": [
    {
     "data": {
      "text/html": [
       "<div>\n",
       "<style scoped>\n",
       "    .dataframe tbody tr th:only-of-type {\n",
       "        vertical-align: middle;\n",
       "    }\n",
       "\n",
       "    .dataframe tbody tr th {\n",
       "        vertical-align: top;\n",
       "    }\n",
       "\n",
       "    .dataframe thead th {\n",
       "        text-align: right;\n",
       "    }\n",
       "</style>\n",
       "<table border=\"1\" class=\"dataframe\">\n",
       "  <thead>\n",
       "    <tr style=\"text-align: right;\">\n",
       "      <th></th>\n",
       "      <th>train</th>\n",
       "      <th>test</th>\n",
       "    </tr>\n",
       "  </thead>\n",
       "  <tbody>\n",
       "    <tr>\n",
       "      <th>accuracy</th>\n",
       "      <td>0.874643</td>\n",
       "      <td>0.871429</td>\n",
       "    </tr>\n",
       "    <tr>\n",
       "      <th>f1</th>\n",
       "      <td>0.663377</td>\n",
       "      <td>0.647238</td>\n",
       "    </tr>\n",
       "    <tr>\n",
       "      <th>precision</th>\n",
       "      <td>0.833833</td>\n",
       "      <td>0.762676</td>\n",
       "    </tr>\n",
       "    <tr>\n",
       "      <th>recall</th>\n",
       "      <td>0.638117</td>\n",
       "      <td>0.626647</td>\n",
       "    </tr>\n",
       "  </tbody>\n",
       "</table>\n",
       "</div>"
      ],
      "text/plain": [
       "              train      test\n",
       "accuracy   0.874643  0.871429\n",
       "f1         0.663377  0.647238\n",
       "precision  0.833833  0.762676\n",
       "recall     0.638117  0.626647"
      ]
     },
     "execution_count": 54,
     "metadata": {},
     "output_type": "execute_result"
    }
   ],
   "source": [
    "from sklearn.metrics import accuracy_score, precision_score, recall_score, f1_score\n",
    "ytrain_pred = dt.predict(Xtrain)\n",
    "ytest_pred = dt.predict(Xtest)\n",
    "\n",
    "train_test_full_error = pd.concat([measure_error(ytrain, ytrain_pred, 'train'),\n",
    "                              measure_error(ytest, ytest_pred, 'test')],\n",
    "                              axis=1)\n",
    "train_test_full_error"
   ]
  },
  {
   "cell_type": "code",
   "execution_count": 55,
   "metadata": {},
   "outputs": [
    {
     "data": {
      "image/png": "[encoded data removed]",
      "text/plain": [
       "<Figure size 432x288 with 1 Axes>"
      ]
     },
     "metadata": {
      "needs_background": "light"
     },
     "output_type": "display_data"
    },
    {
     "name": "stdout",
     "output_type": "stream",
     "text": [
      "8\n",
      "0\n"
     ]
    }
   ],
   "source": [
    "import matplotlib.pyplot as plt\n",
    "test1=[]\n",
    "test2=[]\n",
    "for i in range(30):\n",
    "    clf=tree.DecisionTreeClassifier(max_depth=6,\n",
    "                             min_samples_leaf=i+1,       \n",
    "                             criterion='entropy',\n",
    "                             random_state=30,\n",
    "                             splitter='random')\n",
    "    clf=clf.fit(Xtrain,ytrain)\n",
    "    score=clf.score(Xtest,ytest)\n",
    "    test1.append(score)\n",
    "\n",
    "for i in range(30):\n",
    "    clf=tree.DecisionTreeClassifier(max_depth=6,\n",
    "                            min_samples_leaf=i+1,\n",
    "                             criterion='gini',\n",
    "                             random_state=30,\n",
    "                             splitter='random')\n",
    "    clf=clf.fit(Xtrain,ytrain)\n",
    "    score=clf.score(Xtest,ytest)\n",
    "    test2.append(score)\n",
    "plt.plot(range(1,31),test1,color='red',label='entropy_max_depth')\n",
    "plt.plot(range(1,31),test2,color='blue',label='gini_max_depth')\n",
    "plt.legend()\n",
    "plt.show()\n",
    "print(test1.index(max(test1)))\n",
    "print(test2.index(max(test2)))"
   ]
  },
  {
   "cell_type": "code",
   "execution_count": 56,
   "metadata": {},
   "outputs": [],
   "source": [
    "from sklearn.svm import SVC\n",
    "from time import time\n",
    "import datetime\n",
    "import matplotlib.pyplot as plt\n",
    "%matplotlib inline"
   ]
  },
  {
   "cell_type": "code",
   "execution_count": 57,
   "metadata": {},
   "outputs": [
    {
     "name": "stdout",
     "output_type": "stream",
     "text": [
      "使用 linear 内核的正确率是：0.809524\n",
      "所用时间是： 0:00:10.840042\n",
      "使用 poly 内核的正确率是：0.906786\n",
      "所用时间是： 0:00:07.600659\n",
      "使用 rbf 内核的正确率是：0.937143\n",
      "所用时间是： 0:00:07.274544\n",
      "使用 sigmoid 内核的正确率是：0.648690\n",
      "所用时间是： 0:00:11.365548\n"
     ]
    }
   ],
   "source": [
    "# Xtrain,Xtest,ytrain,ytest=train_test_split(new_feature,target,test_size=0.3)\n",
    "k = np.array(['linear','poly','rbf','sigmoid'],dtype=str)\n",
    "for i in range(len(k)):\n",
    "    # time0=time() #记录当前时间\n",
    "    time0 = datetime.datetime.now()\n",
    "    heart=k[i]\n",
    "    clf= SVC(kernel = heart)\n",
    "    #使用训练集数据对模型进行训练\n",
    "    clf = clf.fit(Xtrain, ytrain)\n",
    "    #使用训练好的模型对测试集进行测试，并输出正确率和所用时间\n",
    "    score=clf.score(Xtest,ytest)\n",
    "    print(\"使用 %s 内核的正确率是：%f\" % (heart,score))\n",
    "    time1 = datetime.datetime.now()\n",
    "    print('所用时间是：',time1-time0)"
   ]
  },
  {
   "cell_type": "code",
   "execution_count": 58,
   "metadata": {},
   "outputs": [],
   "source": [
    "from sklearn.model_selection import KFold\n",
    "from sklearn.naive_bayes import GaussianNB, BernoulliNB, MultinomialNB\n",
    "from sklearn.model_selection import cross_val_score\n",
    "import seaborn as sns"
   ]
  },
  {
   "cell_type": "code",
   "execution_count": 59,
   "metadata": {},
   "outputs": [],
   "source": [
    "# Xtrain,Xtest,ytrain,ytest=train_test_split(new_feature,target,test_size=0.3)\n",
    "GNB = GaussianNB()\n",
    "cv_N = []\n",
    "for i in range(2,30):\n",
    "    scores = cross_val_score(GNB,Xtrain,ytrain,cv=i)\n",
    "#     print(scores)                         #输出每次的打分值\n",
    "    cv_N.append(np.mean(scores))#求打分的平均值"
   ]
  },
  {
   "cell_type": "code",
   "execution_count": 60,
   "metadata": {},
   "outputs": [
    {
     "name": "stdout",
     "output_type": "stream",
     "text": [
      "最高得分为： 0.8148979591836735\n",
      "cv的最好参数为： 2\n"
     ]
    },
    {
     "data": {
      "image/png": "[encoded data removed]",
      "text/plain": [
       "<Figure size 432x288 with 1 Axes>"
      ]
     },
     "metadata": {
      "needs_background": "light"
     },
     "output_type": "display_data"
    }
   ],
   "source": [
    "x = np.linspace(2,29,28)\n",
    "plt.plot(x,cv_N)\n",
    "print('最高得分为：',max(cv_N))\n",
    "print('cv的最好参数为：',cv_N.index(max(cv_N)))"
   ]
  },
  {
   "cell_type": "code",
   "execution_count": 61,
   "metadata": {},
   "outputs": [
    {
     "name": "stdout",
     "output_type": "stream",
     "text": [
      "scoring= accuracy\n",
      "平均得分 0.8140304012975529\n",
      "scoring= recall_macro\n",
      "平均得分 0.5834168987578218\n"
     ]
    }
   ],
   "source": [
    "scoring = ['accuracy','recall_macro']\n",
    "for n in scoring:\n",
    "    GNB = GaussianNB()\n",
    "    scores = cross_val_score(GNB,Xtrain,ytrain,cv=17,scoring=n)\n",
    "    # print(scores)                         #输出每次的打分值\n",
    "    print('scoring=',n)\n",
    "    print('平均得分',np.mean(scores))"
   ]
  },
  {
   "cell_type": "code",
   "execution_count": 62,
   "metadata": {
    "scrolled": false
   },
   "outputs": [],
   "source": [
    "# # Xtrain,Xtest,ytrain,ytest=train_test_split(new_feature,target,test_size=0.3)\n",
    "# # y = y.replace('Iris-versicolor',0).replace('Iris-setosa',1).replace('Iris-virginica',2).astype(np.int)\n",
    "# nb = {'高斯gaussian': GaussianNB(),\n",
    "#       '伯努利bernoulli': BernoulliNB(),\n",
    "#       '多项multinomial': MultinomialNB()\n",
    "#      }\n",
    "# scores = {}\n",
    "# for key, model in nb.items():\n",
    "# #交叉验证并评分，可参考步骤5的相关参数，设置参数scoring='accuracy' s = cross_val_score()\n",
    "#     s = cross_val_score(model,Xtrain,ytrain,cv=17,scoring='accuracy')\n",
    "#     scores[key] = np.mean(s)           #计算每个模型交叉验证后的平均分\n",
    "# scores"
   ]
  },
  {
   "cell_type": "markdown",
   "metadata": {},
   "source": [
    "深度"
   ]
  },
  {
   "cell_type": "code",
   "execution_count": 63,
   "metadata": {},
   "outputs": [],
   "source": [
    "from tensorflow.python.keras.utils import np_utils\n",
    "from tensorflow.keras.optimizers import SGD\n",
    "import numpy as np\n",
    "from tensorflow import keras\n",
    "import tensorflow as tf\n",
    "from tensorflow.keras.models import Sequential   #导入序贯模型\n",
    "from tensorflow.keras.layers import Dense, Activation, Dropout, BatchNormalization  #Dense为全连接层"
   ]
  },
  {
   "cell_type": "code",
   "execution_count": 64,
   "metadata": {},
   "outputs": [],
   "source": [
    "from tensorflow.keras.models import Sequential\n",
    "from tensorflow.keras.layers import Embedding, Flatten, Dense, Dropout, LSTM, Bidirectional, Conv1D, MaxPooling1D, GlobalMaxPooling1D, Convolution2D, Convolution1D"
   ]
  },
  {
   "cell_type": "code",
   "execution_count": 65,
   "metadata": {},
   "outputs": [
    {
     "data": {
      "text/plain": [
       "(19600, 1, 13)"
      ]
     },
     "execution_count": 65,
     "metadata": {},
     "output_type": "execute_result"
    }
   ],
   "source": [
    "if Xtrain.ndim != 3:\n",
    "    Xtrain = np.expand_dims(Xtrain,axis=1)\n",
    "if Xtest.ndim != 3:\n",
    "    Xtest = np.expand_dims(Xtest,axis=1)\n",
    "Xtrain.shape"
   ]
  },
  {
   "cell_type": "code",
   "execution_count": 66,
   "metadata": {},
   "outputs": [
    {
     "name": "stdout",
     "output_type": "stream",
     "text": [
      "Epoch 1/50\n",
      "39/39 [==============================] - 3s 36ms/step - loss: 0.8365 - accuracy: 0.7088 - val_loss: 1.0593 - val_accuracy: 0.6533\n",
      "Epoch 2/50\n",
      "39/39 [==============================] - 1s 29ms/step - loss: 0.2847 - accuracy: 0.9260 - val_loss: 0.9281 - val_accuracy: 0.6533\n",
      "Epoch 3/50\n",
      "39/39 [==============================] - 1s 28ms/step - loss: 0.2136 - accuracy: 0.9404 - val_loss: 0.9375 - val_accuracy: 0.6533\n",
      "Epoch 4/50\n",
      "39/39 [==============================] - 1s 35ms/step - loss: 0.1841 - accuracy: 0.9465 - val_loss: 0.8647 - val_accuracy: 0.6533\n",
      "Epoch 5/50\n",
      "39/39 [==============================] - 1s 37ms/step - loss: 0.1576 - accuracy: 0.9548 - val_loss: 0.7521 - val_accuracy: 0.6905\n",
      "Epoch 6/50\n",
      "39/39 [==============================] - 1s 37ms/step - loss: 0.1435 - accuracy: 0.9575 - val_loss: 0.6617 - val_accuracy: 0.7489\n",
      "Epoch 7/50\n",
      "39/39 [==============================] - 2s 42ms/step - loss: 0.1462 - accuracy: 0.9563 - val_loss: 0.4840 - val_accuracy: 0.8312\n",
      "Epoch 8/50\n",
      "39/39 [==============================] - 1s 38ms/step - loss: 0.1212 - accuracy: 0.9633 - val_loss: 0.4755 - val_accuracy: 0.8317\n",
      "Epoch 9/50\n",
      "39/39 [==============================] - 2s 40ms/step - loss: 0.1105 - accuracy: 0.9664 - val_loss: 0.3574 - val_accuracy: 0.8761\n",
      "Epoch 10/50\n",
      "39/39 [==============================] - 2s 39ms/step - loss: 0.1089 - accuracy: 0.9650 - val_loss: 0.2339 - val_accuracy: 0.9162\n",
      "Epoch 11/50\n",
      "39/39 [==============================] - 2s 40ms/step - loss: 0.1019 - accuracy: 0.9689 - val_loss: 0.1971 - val_accuracy: 0.9301\n",
      "Epoch 12/50\n",
      "39/39 [==============================] - 1s 39ms/step - loss: 0.0988 - accuracy: 0.9693 - val_loss: 0.1725 - val_accuracy: 0.9452\n",
      "Epoch 13/50\n",
      "39/39 [==============================] - 1s 38ms/step - loss: 0.0976 - accuracy: 0.9694 - val_loss: 0.1509 - val_accuracy: 0.9535\n",
      "Epoch 14/50\n",
      "39/39 [==============================] - 2s 39ms/step - loss: 0.0921 - accuracy: 0.9687 - val_loss: 0.1226 - val_accuracy: 0.9633\n",
      "Epoch 15/50\n",
      "39/39 [==============================] - 2s 43ms/step - loss: 0.0876 - accuracy: 0.9726 - val_loss: 0.1200 - val_accuracy: 0.9660\n",
      "Epoch 16/50\n",
      "39/39 [==============================] - 2s 39ms/step - loss: 0.0934 - accuracy: 0.9695 - val_loss: 0.1118 - val_accuracy: 0.9686\n",
      "Epoch 17/50\n",
      "39/39 [==============================] - 2s 42ms/step - loss: 0.0811 - accuracy: 0.9723 - val_loss: 0.1139 - val_accuracy: 0.9674\n",
      "Epoch 18/50\n",
      "39/39 [==============================] - 2s 44ms/step - loss: 0.0897 - accuracy: 0.9693 - val_loss: 0.1052 - val_accuracy: 0.9714\n",
      "Epoch 19/50\n",
      "39/39 [==============================] - 2s 42ms/step - loss: 0.0772 - accuracy: 0.9755 - val_loss: 0.1045 - val_accuracy: 0.9712\n",
      "Epoch 20/50\n",
      "39/39 [==============================] - 2s 41ms/step - loss: 0.0829 - accuracy: 0.9732 - val_loss: 0.1064 - val_accuracy: 0.9714\n",
      "Epoch 21/50\n",
      "39/39 [==============================] - 2s 45ms/step - loss: 0.0722 - accuracy: 0.9756 - val_loss: 0.1080 - val_accuracy: 0.9702\n",
      "Epoch 22/50\n",
      "39/39 [==============================] - 2s 42ms/step - loss: 0.0752 - accuracy: 0.9755 - val_loss: 0.1137 - val_accuracy: 0.9699\n",
      "Epoch 23/50\n",
      "39/39 [==============================] - 2s 42ms/step - loss: 0.0671 - accuracy: 0.9771 - val_loss: 0.1142 - val_accuracy: 0.9704\n",
      "Epoch 24/50\n",
      "39/39 [==============================] - 2s 42ms/step - loss: 0.0688 - accuracy: 0.9776 - val_loss: 0.1091 - val_accuracy: 0.9733\n",
      "Epoch 25/50\n",
      "39/39 [==============================] - 2s 43ms/step - loss: 0.0712 - accuracy: 0.9774 - val_loss: 0.1118 - val_accuracy: 0.9714\n",
      "Epoch 26/50\n",
      "39/39 [==============================] - 2s 42ms/step - loss: 0.0711 - accuracy: 0.9768 - val_loss: 0.1092 - val_accuracy: 0.9720\n",
      "Epoch 27/50\n",
      "39/39 [==============================] - 2s 44ms/step - loss: 0.0677 - accuracy: 0.9768 - val_loss: 0.1085 - val_accuracy: 0.9720\n",
      "Epoch 28/50\n",
      "39/39 [==============================] - 2s 44ms/step - loss: 0.0612 - accuracy: 0.9799 - val_loss: 0.1055 - val_accuracy: 0.9719\n",
      "Epoch 29/50\n",
      "39/39 [==============================] - 2s 45ms/step - loss: 0.0612 - accuracy: 0.9794 - val_loss: 0.1158 - val_accuracy: 0.9715\n",
      "Epoch 30/50\n",
      "39/39 [==============================] - 2s 41ms/step - loss: 0.0621 - accuracy: 0.9778 - val_loss: 0.1118 - val_accuracy: 0.9717\n",
      "Epoch 31/50\n",
      "39/39 [==============================] - 2s 44ms/step - loss: 0.0531 - accuracy: 0.9817 - val_loss: 0.1051 - val_accuracy: 0.9730\n",
      "Epoch 32/50\n",
      "39/39 [==============================] - 2s 42ms/step - loss: 0.0538 - accuracy: 0.9809 - val_loss: 0.1085 - val_accuracy: 0.9725\n",
      "Epoch 33/50\n",
      "39/39 [==============================] - 2s 42ms/step - loss: 0.0558 - accuracy: 0.9801 - val_loss: 0.1154 - val_accuracy: 0.9715\n",
      "Epoch 34/50\n",
      "39/39 [==============================] - 2s 46ms/step - loss: 0.0549 - accuracy: 0.9807 - val_loss: 0.1113 - val_accuracy: 0.9729\n",
      "Epoch 35/50\n",
      "39/39 [==============================] - 2s 49ms/step - loss: 0.0546 - accuracy: 0.9819 - val_loss: 0.1151 - val_accuracy: 0.9707\n",
      "Epoch 36/50\n",
      "39/39 [==============================] - 2s 50ms/step - loss: 0.0571 - accuracy: 0.9812 - val_loss: 0.1086 - val_accuracy: 0.9731\n",
      "Epoch 37/50\n",
      "39/39 [==============================] - 2s 47ms/step - loss: 0.0523 - accuracy: 0.9829 - val_loss: 0.1076 - val_accuracy: 0.9732\n",
      "Epoch 38/50\n",
      "39/39 [==============================] - 2s 46ms/step - loss: 0.0512 - accuracy: 0.9815 - val_loss: 0.1158 - val_accuracy: 0.9715\n",
      "Epoch 39/50\n",
      "39/39 [==============================] - 2s 42ms/step - loss: 0.0540 - accuracy: 0.9810 - val_loss: 0.1142 - val_accuracy: 0.9698\n",
      "Epoch 40/50\n",
      "39/39 [==============================] - 2s 40ms/step - loss: 0.0543 - accuracy: 0.9808 - val_loss: 0.1132 - val_accuracy: 0.9717\n",
      "Epoch 41/50\n",
      "39/39 [==============================] - 2s 39ms/step - loss: 0.0498 - accuracy: 0.9824 - val_loss: 0.1209 - val_accuracy: 0.9707\n",
      "Epoch 42/50\n",
      "39/39 [==============================] - 2s 42ms/step - loss: 0.0453 - accuracy: 0.9841 - val_loss: 0.1141 - val_accuracy: 0.9742\n",
      "Epoch 43/50\n",
      "39/39 [==============================] - 2s 42ms/step - loss: 0.0480 - accuracy: 0.9829 - val_loss: 0.1207 - val_accuracy: 0.9719\n",
      "Epoch 44/50\n",
      "39/39 [==============================] - 2s 45ms/step - loss: 0.0438 - accuracy: 0.9839 - val_loss: 0.1108 - val_accuracy: 0.9737\n",
      "Epoch 45/50\n",
      "39/39 [==============================] - 2s 41ms/step - loss: 0.0424 - accuracy: 0.9849 - val_loss: 0.1123 - val_accuracy: 0.9714\n",
      "Epoch 46/50\n",
      "39/39 [==============================] - 2s 41ms/step - loss: 0.0491 - accuracy: 0.9832 - val_loss: 0.1146 - val_accuracy: 0.9735\n",
      "Epoch 47/50\n",
      "39/39 [==============================] - 2s 42ms/step - loss: 0.0450 - accuracy: 0.9842 - val_loss: 0.1203 - val_accuracy: 0.9740\n",
      "Epoch 48/50\n",
      "39/39 [==============================] - 2s 40ms/step - loss: 0.0422 - accuracy: 0.9849 - val_loss: 0.1162 - val_accuracy: 0.9751\n",
      "Epoch 49/50\n",
      "39/39 [==============================] - 2s 40ms/step - loss: 0.0422 - accuracy: 0.9852 - val_loss: 0.1115 - val_accuracy: 0.9749\n",
      "Epoch 50/50\n",
      "39/39 [==============================] - 2s 41ms/step - loss: 0.0431 - accuracy: 0.9843 - val_loss: 0.1153 - val_accuracy: 0.9735\n",
      "所用时间是： 0:01:21.933507\n"
     ]
    }
   ],
   "source": [
    "time0 = datetime.datetime.now()\n",
    "# sco = []\n",
    "# for i in range(30):\n",
    "model_2 = Sequential()\n",
    "model_2.add(BatchNormalization())\n",
    "model_2.add(Convolution1D(filters=512,\n",
    "    kernel_size=1,\n",
    "    strides=1,\n",
    "    padding='same',\n",
    "    activation='relu'\n",
    "    ))\n",
    "model_2.add(LSTM(256, activation='relu'))\n",
    "model_2.add(BatchNormalization())\n",
    "model_2.add(Dropout(0.3))\n",
    "model_2.add(Dense(128, activation='relu'))\n",
    "model_2.add(BatchNormalization())\n",
    "model_2.add(Dense(64, activation='relu'))\n",
    "model_2.add(BatchNormalization())\n",
    "model_2.add(Dense(32, activation='relu'))\n",
    "# model_2.add(BatchNormalization())\n",
    "# model_2.add(Dropout(0.3))\n",
    "# model_2.add(Dense(32, activation='relu'))\n",
    "model_2.add(BatchNormalization())\n",
    "# model_2.add(Dropout(0.1))\n",
    "model_2.add(Dense(4, activation='softmax'))\n",
    "model_2.compile(optimizer='adam', loss='sparse_categorical_crossentropy', metrics=['accuracy'])\n",
    "history = model_2.fit(Xtrain,ytrain,batch_size=512,epochs=50,validation_data=(Xtest, ytest),verbose=1)\n",
    "#     sco.append(model_2.evaluate(Xtest, ytest)[1])\n",
    "time1 = datetime.datetime.now()\n",
    "print('所用时间是：',time1-time0)"
   ]
  },
  {
   "cell_type": "code",
   "execution_count": null,
   "metadata": {},
   "outputs": [],
   "source": []
  },
  {
   "cell_type": "code",
   "execution_count": 67,
   "metadata": {},
   "outputs": [
    {
     "data": {
      "text/plain": [
       "dict_keys(['loss', 'accuracy', 'val_loss', 'val_accuracy'])"
      ]
     },
     "execution_count": 67,
     "metadata": {},
     "output_type": "execute_result"
    }
   ],
   "source": [
    "history_dict = history.history\n",
    "history_dict.keys()"
   ]
  },
  {
   "cell_type": "code",
   "execution_count": 68,
   "metadata": {},
   "outputs": [
    {
     "data": {
      "image/png": "[encoded data removed]",
      "text/plain": [
       "<Figure size 432x288 with 1 Axes>"
      ]
     },
     "metadata": {
      "needs_background": "light"
     },
     "output_type": "display_data"
    },
    {
     "data": {
      "image/png": "[encoded data removed]",
      "text/plain": [
       "<Figure size 432x288 with 1 Axes>"
      ]
     },
     "metadata": {
      "needs_background": "light"
     },
     "output_type": "display_data"
    }
   ],
   "source": [
    "import matplotlib.pyplot as plt\n",
    " \n",
    "acc = history_dict['accuracy']\n",
    "val_acc = history_dict['val_accuracy']\n",
    "loss = history_dict['loss']\n",
    "val_loss = history_dict['val_loss']\n",
    " \n",
    "epochs = range(1, len(acc) + 1)\n",
    " \n",
    "# “bo”代表 \"蓝点\"\n",
    "plt.plot(epochs, loss, 'bo', label='Training loss')\n",
    "# b代表“蓝色实线”\n",
    "plt.plot(epochs, val_loss, 'b', label='Validation loss')\n",
    "plt.title('Training and validation loss')\n",
    "plt.xlabel('Epochs')\n",
    "plt.ylabel('Loss')\n",
    "plt.legend()\n",
    " \n",
    "plt.show()\n",
    "#打印图一\n",
    " \n",
    "plt.clf()   # 清除数字\n",
    " \n",
    "plt.plot(epochs, acc, 'bo', label='Training acc')\n",
    "plt.plot(epochs, val_acc, 'b', label='Validation acc')\n",
    "plt.title('Training and validation accuracy')\n",
    "plt.xlabel('Epochs')\n",
    "plt.ylabel('Accuracy')\n",
    "plt.legend()\n",
    " \n",
    "plt.show()\n",
    "#打印图二"
   ]
  },
  {
   "cell_type": "code",
   "execution_count": 69,
   "metadata": {},
   "outputs": [
    {
     "name": "stdout",
     "output_type": "stream",
     "text": [
      "263/263 [==============================] - 1s 3ms/step - loss: 0.1153 - accuracy: 0.9735\n"
     ]
    },
    {
     "data": {
      "text/plain": [
       "[0.11534585803747177, 0.9734523892402649]"
      ]
     },
     "execution_count": 69,
     "metadata": {},
     "output_type": "execute_result"
    }
   ],
   "source": [
    "if Xtest.ndim != 3:\n",
    "    Xtest = np.expand_dims(Xtest,axis=1)\n",
    "    print(Xtest.shape)\n",
    "# xtest.shape\n",
    "model_2.evaluate(Xtest, ytest)"
   ]
  },
  {
   "cell_type": "code",
   "execution_count": 61,
   "metadata": {},
   "outputs": [],
   "source": [
    "# model_2.summary()"
   ]
  },
  {
   "cell_type": "markdown",
   "metadata": {},
   "source": [
    "ababoost"
   ]
  },
  {
   "cell_type": "code",
   "execution_count": 193,
   "metadata": {},
   "outputs": [],
   "source": [
    "# from sklearn.ensemble import AdaBoostClassifier\n",
    "from sklearn.tree import DecisionTreeClassifier\n",
    "from sklearn.datasets import make_gaussian_quantiles\n",
    "from sklearn.ensemble import AdaBoostClassifier\n",
    "# clf = AdaBoostClassifier(n_estimators=30, learning_rate=0.1)\n",
    "# clf.fit(Xtrain, ytrain)"
   ]
  },
  {
   "cell_type": "code",
   "execution_count": null,
   "metadata": {},
   "outputs": [],
   "source": [
    "feature_cols = [x for x in data.columns if x not in 'label']\n",
    "Xtrain = data[feature_cols]\n",
    "# features.values\n",
    "ytrain = data['label']\n",
    "Xtest = data1[feature_cols]\n",
    "ytest = data1['label']"
   ]
  },
  {
   "cell_type": "code",
   "execution_count": 196,
   "metadata": {},
   "outputs": [
    {
     "name": "stdout",
     "output_type": "stream",
     "text": [
      "所用时间是： 0:07:19.977948\n"
     ]
    }
   ],
   "source": [
    "# time0=time() #记录当前时间\n",
    "time0 = datetime.datetime.now()\n",
    "bdt = AdaBoostClassifier(DecisionTreeClassifier(max_depth=15, min_samples_split=30, min_samples_leaf=10),\n",
    "                         algorithm=\"SAMME\",\n",
    "                         n_estimators=100, learning_rate=0.9)\n",
    "bdt.fit(Xtrain, ytrain)\n",
    "time1 = datetime.datetime.now()\n",
    "print('所用时间是：',time1-time0)"
   ]
  },
  {
   "cell_type": "code",
   "execution_count": 197,
   "metadata": {},
   "outputs": [
    {
     "data": {
      "text/plain": [
       "0.976375"
      ]
     },
     "execution_count": 197,
     "metadata": {},
     "output_type": "execute_result"
    }
   ],
   "source": [
    "bdt.score(Xtest, ytest)"
   ]
  },
  {
   "cell_type": "code",
   "execution_count": 198,
   "metadata": {},
   "outputs": [
    {
     "name": "stdout",
     "output_type": "stream",
     "text": [
      "所用时间是： 0:07:53.663910\n"
     ]
    }
   ],
   "source": [
    "# time0=time() #记录当前时间\n",
    "time0 = datetime.datetime.now()\n",
    "bdt1 = AdaBoostClassifier(DecisionTreeClassifier(max_depth=15, min_samples_split=30, min_samples_leaf=10),\n",
    "                         algorithm=\"SAMME.R\",\n",
    "                         n_estimators=100, learning_rate=0.9)\n",
    "bdt1.fit(Xtrain, ytrain)\n",
    "bdt1.score(Xtest, ytest)\n",
    "time1 = datetime.datetime.now()\n",
    "print('所用时间是：',time1-time0)"
   ]
  },
  {
   "cell_type": "code",
   "execution_count": 1,
   "metadata": {},
   "outputs": [
    {
     "ename": "NameError",
     "evalue": "name 'bdt1' is not defined",
     "output_type": "error",
     "traceback": [
      "\u001b[1;31m---------------------------------------------------------------------------\u001b[0m",
      "\u001b[1;31mNameError\u001b[0m                                 Traceback (most recent call last)",
      "\u001b[1;32m<ipython-input-1-fb271e57410e>\u001b[0m in \u001b[0;36m<module>\u001b[1;34m()\u001b[0m\n\u001b[1;32m----> 1\u001b[1;33m \u001b[0mbdt1\u001b[0m\u001b[1;33m.\u001b[0m\u001b[0mscore\u001b[0m\u001b[1;33m(\u001b[0m\u001b[0mXtest\u001b[0m\u001b[1;33m,\u001b[0m \u001b[0mytest\u001b[0m\u001b[1;33m)\u001b[0m\u001b[1;33m\u001b[0m\u001b[0m\n\u001b[0m",
      "\u001b[1;31mNameError\u001b[0m: name 'bdt1' is not defined"
     ]
    }
   ],
   "source": [
    "bdt1.score(Xtest, ytest)"
   ]
  },
  {
   "cell_type": "code",
   "execution_count": 199,
   "metadata": {},
   "outputs": [],
   "source": [
    "# from sklearn.externals.six.moves import zip\n",
    "\n",
    "import matplotlib.pyplot as plt\n",
    "import matplotlib as mpl\n",
    "from six import StringIO\n",
    "from sklearn.datasets import make_gaussian_quantiles\n",
    "from sklearn.ensemble import AdaBoostClassifier\n",
    "from sklearn.metrics import accuracy_score#计算roc和auc\n",
    "from sklearn.tree import DecisionTreeClassifier"
   ]
  },
  {
   "cell_type": "code",
   "execution_count": 200,
   "metadata": {},
   "outputs": [],
   "source": [
    "#获得预测的准确率，accuracy_score，是单个分类器的准确率。\n",
    "#预测的误差率estimator_errors_\n",
    "real_test_errors = []#第一个模型每一个分类器的误差率\n",
    "discrete_test_errors = []#第二个模型每一个分类器的误差率\n",
    "\n",
    "for bdt_test_predict, bdt1_test_predict in zip(\n",
    "        bdt.staged_predict(Xtest), bdt1.staged_predict(Xtest)):\n",
    "    real_test_errors.append(\n",
    "        1. - accuracy_score(bdt_test_predict, ytest))\n",
    "    discrete_test_errors.append(\n",
    "        1. - accuracy_score(bdt1_test_predict, ytest))\n",
    "\n",
    "n_trees_discrete = len(bdt1)\n",
    "n_trees_real = len(bdt)\n",
    "\n",
    "discrete_estimator_errors = bdt1.estimator_errors_[:n_trees_discrete]\n",
    "real_estimator_errors = bdt.estimator_errors_[:n_trees_real]\n",
    "discrete_estimator_weights = bdt1.estimator_weights_[:n_trees_discrete]#获得权重"
   ]
  },
  {
   "cell_type": "code",
   "execution_count": 201,
   "metadata": {},
   "outputs": [
    {
     "name": "stderr",
     "output_type": "stream",
     "text": [
      "D:\\anconda\\lib\\site-packages\\matplotlib\\backends\\backend_agg.py:211: RuntimeWarning: Glyph 24369 missing from current font.\n",
      "  font.set_text(s, 0.0, flags=flags)\n",
      "D:\\anconda\\lib\\site-packages\\matplotlib\\backends\\backend_agg.py:211: RuntimeWarning: Glyph 20998 missing from current font.\n",
      "  font.set_text(s, 0.0, flags=flags)\n",
      "D:\\anconda\\lib\\site-packages\\matplotlib\\backends\\backend_agg.py:211: RuntimeWarning: Glyph 31867 missing from current font.\n",
      "  font.set_text(s, 0.0, flags=flags)\n",
      "D:\\anconda\\lib\\site-packages\\matplotlib\\backends\\backend_agg.py:211: RuntimeWarning: Glyph 22120 missing from current font.\n",
      "  font.set_text(s, 0.0, flags=flags)\n",
      "D:\\anconda\\lib\\site-packages\\matplotlib\\backends\\backend_agg.py:211: RuntimeWarning: Glyph 25968 missing from current font.\n",
      "  font.set_text(s, 0.0, flags=flags)\n",
      "D:\\anconda\\lib\\site-packages\\matplotlib\\backends\\backend_agg.py:211: RuntimeWarning: Glyph 30446 missing from current font.\n",
      "  font.set_text(s, 0.0, flags=flags)\n",
      "D:\\anconda\\lib\\site-packages\\matplotlib\\backends\\backend_agg.py:180: RuntimeWarning: Glyph 24369 missing from current font.\n",
      "  font.set_text(s, 0, flags=flags)\n",
      "D:\\anconda\\lib\\site-packages\\matplotlib\\backends\\backend_agg.py:180: RuntimeWarning: Glyph 20998 missing from current font.\n",
      "  font.set_text(s, 0, flags=flags)\n",
      "D:\\anconda\\lib\\site-packages\\matplotlib\\backends\\backend_agg.py:180: RuntimeWarning: Glyph 31867 missing from current font.\n",
      "  font.set_text(s, 0, flags=flags)\n",
      "D:\\anconda\\lib\\site-packages\\matplotlib\\backends\\backend_agg.py:180: RuntimeWarning: Glyph 22120 missing from current font.\n",
      "  font.set_text(s, 0, flags=flags)\n",
      "D:\\anconda\\lib\\site-packages\\matplotlib\\backends\\backend_agg.py:180: RuntimeWarning: Glyph 25968 missing from current font.\n",
      "  font.set_text(s, 0, flags=flags)\n",
      "D:\\anconda\\lib\\site-packages\\matplotlib\\backends\\backend_agg.py:180: RuntimeWarning: Glyph 30446 missing from current font.\n",
      "  font.set_text(s, 0, flags=flags)\n",
      "D:\\anconda\\lib\\site-packages\\matplotlib\\backends\\backend_agg.py:211: RuntimeWarning: Glyph 27979 missing from current font.\n",
      "  font.set_text(s, 0.0, flags=flags)\n",
      "D:\\anconda\\lib\\site-packages\\matplotlib\\backends\\backend_agg.py:211: RuntimeWarning: Glyph 35797 missing from current font.\n",
      "  font.set_text(s, 0.0, flags=flags)\n",
      "D:\\anconda\\lib\\site-packages\\matplotlib\\backends\\backend_agg.py:211: RuntimeWarning: Glyph 25454 missing from current font.\n",
      "  font.set_text(s, 0.0, flags=flags)\n",
      "D:\\anconda\\lib\\site-packages\\matplotlib\\backends\\backend_agg.py:211: RuntimeWarning: Glyph 30340 missing from current font.\n",
      "  font.set_text(s, 0.0, flags=flags)\n",
      "D:\\anconda\\lib\\site-packages\\matplotlib\\backends\\backend_agg.py:211: RuntimeWarning: Glyph 39044 missing from current font.\n",
      "  font.set_text(s, 0.0, flags=flags)\n",
      "D:\\anconda\\lib\\site-packages\\matplotlib\\backends\\backend_agg.py:211: RuntimeWarning: Glyph 38169 missing from current font.\n",
      "  font.set_text(s, 0.0, flags=flags)\n",
      "D:\\anconda\\lib\\site-packages\\matplotlib\\backends\\backend_agg.py:211: RuntimeWarning: Glyph 35823 missing from current font.\n",
      "  font.set_text(s, 0.0, flags=flags)\n",
      "D:\\anconda\\lib\\site-packages\\matplotlib\\backends\\backend_agg.py:211: RuntimeWarning: Glyph 29575 missing from current font.\n",
      "  font.set_text(s, 0.0, flags=flags)\n",
      "D:\\anconda\\lib\\site-packages\\matplotlib\\backends\\backend_agg.py:180: RuntimeWarning: Glyph 27979 missing from current font.\n",
      "  font.set_text(s, 0, flags=flags)\n",
      "D:\\anconda\\lib\\site-packages\\matplotlib\\backends\\backend_agg.py:180: RuntimeWarning: Glyph 35797 missing from current font.\n",
      "  font.set_text(s, 0, flags=flags)\n",
      "D:\\anconda\\lib\\site-packages\\matplotlib\\backends\\backend_agg.py:180: RuntimeWarning: Glyph 25454 missing from current font.\n",
      "  font.set_text(s, 0, flags=flags)\n",
      "D:\\anconda\\lib\\site-packages\\matplotlib\\backends\\backend_agg.py:180: RuntimeWarning: Glyph 30340 missing from current font.\n",
      "  font.set_text(s, 0, flags=flags)\n",
      "D:\\anconda\\lib\\site-packages\\matplotlib\\backends\\backend_agg.py:180: RuntimeWarning: Glyph 39044 missing from current font.\n",
      "  font.set_text(s, 0, flags=flags)\n",
      "D:\\anconda\\lib\\site-packages\\matplotlib\\backends\\backend_agg.py:180: RuntimeWarning: Glyph 38169 missing from current font.\n",
      "  font.set_text(s, 0, flags=flags)\n",
      "D:\\anconda\\lib\\site-packages\\matplotlib\\backends\\backend_agg.py:180: RuntimeWarning: Glyph 35823 missing from current font.\n",
      "  font.set_text(s, 0, flags=flags)\n",
      "D:\\anconda\\lib\\site-packages\\matplotlib\\backends\\backend_agg.py:180: RuntimeWarning: Glyph 29575 missing from current font.\n",
      "  font.set_text(s, 0, flags=flags)\n",
      "D:\\anconda\\lib\\site-packages\\matplotlib\\backends\\backend_agg.py:211: RuntimeWarning: Glyph 27169 missing from current font.\n",
      "  font.set_text(s, 0.0, flags=flags)\n",
      "D:\\anconda\\lib\\site-packages\\matplotlib\\backends\\backend_agg.py:211: RuntimeWarning: Glyph 22411 missing from current font.\n",
      "  font.set_text(s, 0.0, flags=flags)\n",
      "D:\\anconda\\lib\\site-packages\\matplotlib\\backends\\backend_agg.py:211: RuntimeWarning: Glyph 23454 missing from current font.\n",
      "  font.set_text(s, 0.0, flags=flags)\n",
      "D:\\anconda\\lib\\site-packages\\matplotlib\\backends\\backend_agg.py:211: RuntimeWarning: Glyph 38469 missing from current font.\n",
      "  font.set_text(s, 0.0, flags=flags)\n",
      "D:\\anconda\\lib\\site-packages\\matplotlib\\backends\\backend_agg.py:180: RuntimeWarning: Glyph 27169 missing from current font.\n",
      "  font.set_text(s, 0, flags=flags)\n",
      "D:\\anconda\\lib\\site-packages\\matplotlib\\backends\\backend_agg.py:180: RuntimeWarning: Glyph 22411 missing from current font.\n",
      "  font.set_text(s, 0, flags=flags)\n",
      "D:\\anconda\\lib\\site-packages\\matplotlib\\backends\\backend_agg.py:180: RuntimeWarning: Glyph 23454 missing from current font.\n",
      "  font.set_text(s, 0, flags=flags)\n",
      "D:\\anconda\\lib\\site-packages\\matplotlib\\backends\\backend_agg.py:180: RuntimeWarning: Glyph 38469 missing from current font.\n",
      "  font.set_text(s, 0, flags=flags)\n",
      "D:\\anconda\\lib\\site-packages\\matplotlib\\backends\\backend_agg.py:211: RuntimeWarning: Glyph 32534 missing from current font.\n",
      "  font.set_text(s, 0.0, flags=flags)\n",
      "D:\\anconda\\lib\\site-packages\\matplotlib\\backends\\backend_agg.py:211: RuntimeWarning: Glyph 21495 missing from current font.\n",
      "  font.set_text(s, 0.0, flags=flags)\n",
      "D:\\anconda\\lib\\site-packages\\matplotlib\\backends\\backend_agg.py:180: RuntimeWarning: Glyph 32534 missing from current font.\n",
      "  font.set_text(s, 0, flags=flags)\n",
      "D:\\anconda\\lib\\site-packages\\matplotlib\\backends\\backend_agg.py:180: RuntimeWarning: Glyph 21495 missing from current font.\n",
      "  font.set_text(s, 0, flags=flags)\n",
      "D:\\anconda\\lib\\site-packages\\matplotlib\\backends\\backend_agg.py:211: RuntimeWarning: Glyph 26435 missing from current font.\n",
      "  font.set_text(s, 0.0, flags=flags)\n",
      "D:\\anconda\\lib\\site-packages\\matplotlib\\backends\\backend_agg.py:211: RuntimeWarning: Glyph 37325 missing from current font.\n",
      "  font.set_text(s, 0.0, flags=flags)\n",
      "D:\\anconda\\lib\\site-packages\\matplotlib\\backends\\backend_agg.py:180: RuntimeWarning: Glyph 26435 missing from current font.\n",
      "  font.set_text(s, 0, flags=flags)\n",
      "D:\\anconda\\lib\\site-packages\\matplotlib\\backends\\backend_agg.py:180: RuntimeWarning: Glyph 37325 missing from current font.\n",
      "  font.set_text(s, 0, flags=flags)\n"
     ]
    },
    {
     "data": {
      "image/png": "[encoded data removed]",
      "text/plain": [
       "<Figure size 1080x360 with 3 Axes>"
      ]
     },
     "metadata": {},
     "output_type": "display_data"
    }
   ],
   "source": [
    "plt.figure(figsize=(15, 5), facecolor='w')\n",
    "\n",
    "plt.subplot(131)\n",
    "plt.plot(range(1, n_trees_discrete + 1),\n",
    "         discrete_test_errors, c='g', label='SAMME.R')\n",
    "plt.plot(range(1, n_trees_real + 1),\n",
    "         real_test_errors, c='r',\n",
    "         linestyle='dashed', label='SAMME')\n",
    "plt.legend()\n",
    "# plt.ylim(0.18, 0.62)\n",
    "plt.ylabel(u'测试数据的预测错误率')\n",
    "plt.xlabel(u'弱分类器数目')\n",
    "\n",
    "plt.subplot(132)\n",
    "plt.plot(range(1, n_trees_discrete + 1), discrete_estimator_errors,\n",
    "         \"b\", label='SAMME.R', alpha=.5)\n",
    "plt.plot(range(1, n_trees_real + 1), real_estimator_errors,\n",
    "         \"r\", label='SAMME', alpha=.5)\n",
    "plt.legend()\n",
    "plt.ylabel(u'模型实际错误率')\n",
    "plt.xlabel(u'弱分类器数目')\n",
    "# plt.ylim((.2,\n",
    "#          max(real_estimator_errors.max(),\n",
    "#              discrete_estimator_errors.max()) * 1.2))\n",
    "# plt.xlim((-20, len(bdt1) + 20))\n",
    "\n",
    "plt.subplot(133)\n",
    "plt.plot(range(1, n_trees_discrete + 1), real_estimator_errors,\n",
    "         \"b\", label='SAMME')\n",
    "plt.legend()\n",
    "plt.ylabel(u'权重')\n",
    "plt.xlabel(u'弱分类器编号')\n",
    "# plt.ylim((0, discrete_estimator_weights.max() * 1.2))\n",
    "# plt.xlim((-20, n_trees_discrete + 20))\n",
    "\n",
    "# 显示\n",
    "plt.subplots_adjust(wspace=0.25)\n",
    "plt.show()"
   ]
  },
  {
   "cell_type": "markdown",
   "metadata": {},
   "source": [
    "xgboost"
   ]
  },
  {
   "cell_type": "code",
   "execution_count": 42,
   "metadata": {},
   "outputs": [],
   "source": [
    "import numpy as np\n",
    "import matplotlib as mpl\n",
    "import matplotlib.pyplot as plt\n",
    "import pandas as pd\n",
    "\n",
    "from sklearn.model_selection  import train_test_split\n",
    "from sklearn.metrics import mean_squared_error\n",
    "from sklearn.metrics import accuracy_score\n",
    "import xgboost as xgb"
   ]
  },
  {
   "cell_type": "code",
   "execution_count": 43,
   "metadata": {},
   "outputs": [],
   "source": [
    "def notEmpty(s):\n",
    "    return s != ''"
   ]
  },
  {
   "cell_type": "code",
   "execution_count": 44,
   "metadata": {},
   "outputs": [],
   "source": [
    "feature_cols = [x for x in data.columns if x not in 'label']\n",
    "Xtrain = new_feature\n",
    "# features.values\n",
    "ytrain = data['label']\n",
    "Xtest = new_feature1\n",
    "ytest = data1['label']\n",
    "# Xtrain,Xtest,ytrain,ytest=train_test_split(feature,target,test_size=0.3)"
   ]
  },
  {
   "cell_type": "code",
   "execution_count": 45,
   "metadata": {},
   "outputs": [],
   "source": [
    "# XGBoost将数据转换为XGBoost可用的数据类型\n",
    "dtrain = xgb.DMatrix(Xtrain, label=ytrain)\n",
    "dtest = xgb.DMatrix(Xtest)"
   ]
  },
  {
   "cell_type": "code",
   "execution_count": null,
   "metadata": {},
   "outputs": [],
   "source": []
  },
  {
   "cell_type": "code",
   "execution_count": 46,
   "metadata": {},
   "outputs": [],
   "source": [
    "# XGBoost模型构建\n",
    "# 1. 参数构建\n",
    "params = {'max_depth':25, 'eta':0.1, 'eval_metric':'mlogloss','objective':'multi:softmax','num_class':4,'min_child_weight':10}\n",
    "num_round = 200\n",
    "# 2. 模型训练\n",
    "bst = xgb.train(params, dtrain, num_round)\n",
    "# 3. 模型保存\n",
    "bst.save_model('xgb.model')"
   ]
  },
  {
   "cell_type": "code",
   "execution_count": 48,
   "metadata": {
    "scrolled": true
   },
   "outputs": [
    {
     "ename": "ValueError",
     "evalue": "training data did not have the following fields: 0, 1, 2, 3, 4, 5, 6, 7, 8, 9, 10, 11, 12, 13, 14, 15, 16, 17, 18, 19",
     "output_type": "error",
     "traceback": [
      "\u001b[1;31m---------------------------------------------------------------------------\u001b[0m",
      "\u001b[1;31mValueError\u001b[0m                                Traceback (most recent call last)",
      "\u001b[1;32m<ipython-input-48-975cb532ca0b>\u001b[0m in \u001b[0;36m<module>\u001b[1;34m()\u001b[0m\n\u001b[0;32m      1\u001b[0m \u001b[1;31m# XGBoost模型预测\u001b[0m\u001b[1;33m\u001b[0m\u001b[1;33m\u001b[0m\u001b[0m\n\u001b[1;32m----> 2\u001b[1;33m \u001b[0my_pred\u001b[0m \u001b[1;33m=\u001b[0m \u001b[0mbst\u001b[0m\u001b[1;33m.\u001b[0m\u001b[0mpredict\u001b[0m\u001b[1;33m(\u001b[0m\u001b[0mdtest\u001b[0m\u001b[1;33m)\u001b[0m\u001b[1;33m\u001b[0m\u001b[0m\n\u001b[0m\u001b[0;32m      3\u001b[0m \u001b[0mprint\u001b[0m\u001b[1;33m(\u001b[0m\u001b[0mmean_squared_error\u001b[0m\u001b[1;33m(\u001b[0m\u001b[0mytest\u001b[0m\u001b[1;33m,\u001b[0m \u001b[0my_pred\u001b[0m\u001b[1;33m)\u001b[0m\u001b[1;33m)\u001b[0m\u001b[1;33m\u001b[0m\u001b[0m\n\u001b[0;32m      4\u001b[0m \u001b[0mprint\u001b[0m\u001b[1;33m(\u001b[0m\u001b[0maccuracy_score\u001b[0m\u001b[1;33m(\u001b[0m\u001b[0mytest\u001b[0m\u001b[1;33m,\u001b[0m\u001b[0my_pred\u001b[0m\u001b[1;33m)\u001b[0m\u001b[1;33m)\u001b[0m\u001b[1;33m\u001b[0m\u001b[0m\n",
      "\u001b[1;32mD:\\anconda\\lib\\site-packages\\xgboost\\core.py\u001b[0m in \u001b[0;36mpredict\u001b[1;34m(self, data, output_margin, ntree_limit, pred_leaf, pred_contribs, approx_contribs, pred_interactions, validate_features, training, iteration_range, strict_shape)\u001b[0m\n\u001b[0;32m   1885\u001b[0m             \u001b[1;32mraise\u001b[0m \u001b[0mTypeError\u001b[0m\u001b[1;33m(\u001b[0m\u001b[1;34m'Expecting data to be a DMatrix object, got: '\u001b[0m\u001b[1;33m,\u001b[0m \u001b[0mtype\u001b[0m\u001b[1;33m(\u001b[0m\u001b[0mdata\u001b[0m\u001b[1;33m)\u001b[0m\u001b[1;33m)\u001b[0m\u001b[1;33m\u001b[0m\u001b[0m\n\u001b[0;32m   1886\u001b[0m         \u001b[1;32mif\u001b[0m \u001b[0mvalidate_features\u001b[0m\u001b[1;33m:\u001b[0m\u001b[1;33m\u001b[0m\u001b[0m\n\u001b[1;32m-> 1887\u001b[1;33m             \u001b[0mself\u001b[0m\u001b[1;33m.\u001b[0m\u001b[0m_validate_features\u001b[0m\u001b[1;33m(\u001b[0m\u001b[0mdata\u001b[0m\u001b[1;33m)\u001b[0m\u001b[1;33m\u001b[0m\u001b[0m\n\u001b[0m\u001b[0;32m   1888\u001b[0m         \u001b[0miteration_range\u001b[0m \u001b[1;33m=\u001b[0m \u001b[0m_convert_ntree_limit\u001b[0m\u001b[1;33m(\u001b[0m\u001b[0mself\u001b[0m\u001b[1;33m,\u001b[0m \u001b[0mntree_limit\u001b[0m\u001b[1;33m,\u001b[0m \u001b[0miteration_range\u001b[0m\u001b[1;33m)\u001b[0m\u001b[1;33m\u001b[0m\u001b[0m\n\u001b[0;32m   1889\u001b[0m         args = {\n",
      "\u001b[1;32mD:\\anconda\\lib\\site-packages\\xgboost\\core.py\u001b[0m in \u001b[0;36m_validate_features\u001b[1;34m(self, data)\u001b[0m\n\u001b[0;32m   2466\u001b[0m             raise ValueError(\n\u001b[0;32m   2467\u001b[0m                 \u001b[1;34m\"training data did not have the following fields: \"\u001b[0m \u001b[1;33m+\u001b[0m\u001b[1;33m\u001b[0m\u001b[0m\n\u001b[1;32m-> 2468\u001b[1;33m                 \u001b[1;34m\", \"\u001b[0m\u001b[1;33m.\u001b[0m\u001b[0mjoin\u001b[0m\u001b[1;33m(\u001b[0m\u001b[0mself\u001b[0m\u001b[1;33m.\u001b[0m\u001b[0mfeature_names\u001b[0m\u001b[1;33m)\u001b[0m\u001b[1;33m\u001b[0m\u001b[0m\n\u001b[0m\u001b[0;32m   2469\u001b[0m             )\n\u001b[0;32m   2470\u001b[0m         \u001b[1;31m# Booster can't accept data with different feature names\u001b[0m\u001b[1;33m\u001b[0m\u001b[1;33m\u001b[0m\u001b[0m\n",
      "\u001b[1;31mValueError\u001b[0m: training data did not have the following fields: 0, 1, 2, 3, 4, 5, 6, 7, 8, 9, 10, 11, 12, 13, 14, 15, 16, 17, 18, 19"
     ]
    }
   ],
   "source": [
    "# XGBoost模型预测\n",
    "y_pred = bst.predict(dtest)\n",
    "print(mean_squared_error(ytest, y_pred))\n",
    "print(accuracy_score(ytest,y_pred))"
   ]
  },
  {
   "cell_type": "markdown",
   "metadata": {},
   "source": [
    "随机森林"
   ]
  },
  {
   "cell_type": "code",
   "execution_count": 49,
   "metadata": {},
   "outputs": [],
   "source": [
    "import numpy as np\n",
    "import pandas as pd\n",
    "import matplotlib.pyplot as plt\n",
    "import matplotlib as mpl\n",
    "from sklearn import tree\n",
    "from sklearn.ensemble import RandomForestClassifier\n",
    "from sklearn.model_selection import train_test_split\n",
    "from sklearn.pipeline import Pipeline\n",
    "from sklearn.model_selection import GridSearchCV\n",
    "from sklearn.preprocessing import MinMaxScaler\n",
    "from sklearn.decomposition import PCA\n",
    "from sklearn.impute import SimpleImputer\n",
    "from sklearn.preprocessing import label_binarize\n",
    "from sklearn import metrics"
   ]
  },
  {
   "cell_type": "code",
   "execution_count": 50,
   "metadata": {},
   "outputs": [],
   "source": [
    "mpl.rcParams['font.sans-serif'] = [u'SimHei']\n",
    "mpl.rcParams['axes.unicode_minus'] = False"
   ]
  },
  {
   "cell_type": "code",
   "execution_count": 51,
   "metadata": {},
   "outputs": [],
   "source": [
    "feature_cols = [x for x in data.columns if x not in 'label']\n",
    "Xtrain = new_feature\n",
    "# features.values\n",
    "ytrain = data['label']\n",
    "Xtest = new_feature1\n",
    "ytest = data1['label']\n",
    "# Xtrain,Xtest,ytrain,ytest=train_test_split(feature,target,test_size=0.3)"
   ]
  },
  {
   "cell_type": "code",
   "execution_count": 52,
   "metadata": {},
   "outputs": [
    {
     "data": {
      "text/plain": [
       "RandomForestClassifier(max_depth=15, n_estimators=200, random_state=20)"
      ]
     },
     "execution_count": 52,
     "metadata": {},
     "output_type": "execute_result"
    }
   ],
   "source": [
    "#随机森林模型\n",
    "### n_estimators：迭代次数，每次迭代为Y产生一个模型\n",
    "forest = RandomForestClassifier(n_estimators=200, criterion='gini', max_depth=15, random_state=20)\n",
    "forest.fit(Xtrain, ytrain)#max_depth一般不宜设置过大，把每个模型作为一个弱分类器"
   ]
  },
  {
   "cell_type": "code",
   "execution_count": 53,
   "metadata": {},
   "outputs": [
    {
     "data": {
      "text/plain": [
       "0.58725"
      ]
     },
     "execution_count": 53,
     "metadata": {},
     "output_type": "execute_result"
    }
   ],
   "source": [
    "forest.score(Xtest,ytest)"
   ]
  },
  {
   "cell_type": "code",
   "execution_count": 54,
   "metadata": {},
   "outputs": [],
   "source": [
    "#定义一个函数measure_error，用于将四个数值组合到一起\n",
    "def measure_error(y_true, y_pred, label):\n",
    "    return pd.Series({'accuracy':accuracy_score(y_true, y_pred).round(3),\n",
    "                      'precision': precision_score(y_true, y_pred,average = None).round(3),\n",
    "                      'recall': recall_score(y_true, y_pred,average = None).round(3),\n",
    "                      'f1': f1_score(y_true, y_pred,average = None).round(3)},\n",
    "                      name=label)"
   ]
  },
  {
   "cell_type": "code",
   "execution_count": 214,
   "metadata": {},
   "outputs": [
    {
     "data": {
      "text/html": [
       "<div>\n",
       "<style scoped>\n",
       "    .dataframe tbody tr th:only-of-type {\n",
       "        vertical-align: middle;\n",
       "    }\n",
       "\n",
       "    .dataframe tbody tr th {\n",
       "        vertical-align: top;\n",
       "    }\n",
       "\n",
       "    .dataframe thead th {\n",
       "        text-align: right;\n",
       "    }\n",
       "</style>\n",
       "<table border=\"1\" class=\"dataframe\">\n",
       "  <thead>\n",
       "    <tr style=\"text-align: right;\">\n",
       "      <th></th>\n",
       "      <th>train</th>\n",
       "      <th>test</th>\n",
       "    </tr>\n",
       "  </thead>\n",
       "  <tbody>\n",
       "    <tr>\n",
       "      <th>accuracy</th>\n",
       "      <td>0.983</td>\n",
       "      <td>0.963</td>\n",
       "    </tr>\n",
       "    <tr>\n",
       "      <th>f1</th>\n",
       "      <td>[0.987, 0.858, 0.982, 0.992]</td>\n",
       "      <td>[0.973, 0.751, 0.937, 0.976]</td>\n",
       "    </tr>\n",
       "    <tr>\n",
       "      <th>precision</th>\n",
       "      <td>[0.975, 1.0, 1.0, 1.0]</td>\n",
       "      <td>[0.95, 0.97, 0.985, 0.996]</td>\n",
       "    </tr>\n",
       "    <tr>\n",
       "      <th>recall</th>\n",
       "      <td>[1.0, 0.751, 0.964, 0.985]</td>\n",
       "      <td>[0.997, 0.613, 0.894, 0.957]</td>\n",
       "    </tr>\n",
       "  </tbody>\n",
       "</table>\n",
       "</div>"
      ],
      "text/plain": [
       "                                  train                          test\n",
       "accuracy                          0.983                         0.963\n",
       "f1         [0.987, 0.858, 0.982, 0.992]  [0.973, 0.751, 0.937, 0.976]\n",
       "precision        [0.975, 1.0, 1.0, 1.0]    [0.95, 0.97, 0.985, 0.996]\n",
       "recall       [1.0, 0.751, 0.964, 0.985]  [0.997, 0.613, 0.894, 0.957]"
      ]
     },
     "execution_count": 214,
     "metadata": {},
     "output_type": "execute_result"
    }
   ],
   "source": [
    "from sklearn.metrics import accuracy_score, precision_score, recall_score, f1_score\n",
    "ytrain_pred = forest.predict(Xtrain)\n",
    "ytest_pred = forest.predict(Xtest)\n",
    "\n",
    "train_test_full_error = pd.concat([measure_error(ytrain, ytrain_pred, 'train'),\n",
    "                              measure_error(ytest, ytest_pred, 'test')],\n",
    "                              axis=1)\n",
    "train_test_full_error"
   ]
  },
  {
   "cell_type": "code",
   "execution_count": 215,
   "metadata": {},
   "outputs": [],
   "source": [
    "from tensorflow.python.keras.utils import np_utils\n",
    "# Xtrain,Xtest,ytrain,ytest=train_test_split(feature,target,test_size=0.3)\n",
    "#使用keras的函数to_categorical对标签集做独热编码\n",
    "ytrain=np_utils.to_categorical(ytrain,num_classes=4)\n",
    "ytest=np_utils.to_categorical(ytest,num_classes=4)\n",
    "#查看训练集第1条数据的标签独热编码后的值\n",
    "ytest = pd.DataFrame(ytest)\n",
    "ytrain = pd.DataFrame(ytrain)\n",
    "# print(\"训练集第1条数据的标签独热编码后的值\",ytrain) "
   ]
  },
  {
   "cell_type": "code",
   "execution_count": 216,
   "metadata": {},
   "outputs": [
    {
     "data": {
      "text/plain": [
       "RandomForestClassifier(max_depth=15, n_estimators=200, random_state=20)"
      ]
     },
     "execution_count": 216,
     "metadata": {},
     "output_type": "execute_result"
    }
   ],
   "source": [
    "#随机森林模型\n",
    "### n_estimators：迭代次数，每次迭代为Y产生一个模型\n",
    "forest = RandomForestClassifier(n_estimators=200, criterion='gini', max_depth=15, random_state=20)\n",
    "forest.fit(Xtrain, ytrain)#max_depth一般不宜设置过大，把每个模型作为一个弱分类器"
   ]
  },
  {
   "cell_type": "code",
   "execution_count": 217,
   "metadata": {},
   "outputs": [
    {
     "name": "stdout",
     "output_type": "stream",
     "text": [
      "准确率:95.84%\n"
     ]
    }
   ],
   "source": [
    "# 模型效果评估\n",
    "score = forest.score(Xtest, ytest)\n",
    "print (\"准确率:%.2f%%\" % (score * 100))\n",
    "#模型预测\n",
    "forest_y_score = forest.predict_proba(Xtest)# prodict_proba输出概\n",
    "# print(forest_y_score)"
   ]
  },
  {
   "cell_type": "code",
   "execution_count": 218,
   "metadata": {},
   "outputs": [
    {
     "name": "stdout",
     "output_type": "stream",
     "text": [
      "准确率:95.84%\n",
      "[[0.9111203  0.0888797 ]\n",
      " [0.97930756 0.02069244]\n",
      " [0.95226253 0.04773747]\n",
      " ...\n",
      " [0.02371444 0.97628556]\n",
      " [0.07060897 0.92939103]\n",
      " [0.17631897 0.82368103]]\n",
      "label—0目标属性AUC值： 0.993787671875\n",
      "label—1目标属性AUC值： 0.997994203125\n",
      "label—2目标属性AUC值： 0.998471015625\n",
      "label—3目标属性AUC值： 0.9995650468750001\n"
     ]
    }
   ],
   "source": [
    "#模型效果评估\n",
    "score = forest.score(Xtest, ytest)\n",
    "print (\"准确率:%.2f%%\" % (score * 100))\n",
    "#模型预测\n",
    "forest_y_score = forest.predict_proba(Xtest)# prodict_proba输出概率\n",
    "print(forest_y_score[0])\n",
    "#计算ROC值\n",
    "forest_fpr1, forest_tpr1, _ = metrics.roc_curve(label_binarize(ytest[0],classes=(0,1,2)).T[0:-1].T.ravel(), forest_y_score[0].ravel())\n",
    "forest_fpr2, forest_tpr2, _ = metrics.roc_curve(label_binarize(ytest[1],classes=(0,1,2)).T[0:-1].T.ravel(), forest_y_score[1].ravel())\n",
    "forest_fpr3, forest_tpr3, _ = metrics.roc_curve(label_binarize(ytest[2],classes=(0,1,2)).T[0:-1].T.ravel(), forest_y_score[2].ravel())\n",
    "forest_fpr4, forest_tpr4, _ = metrics.roc_curve(label_binarize(ytest[3],classes=(0,1,2)).T[0:-1].T.ravel(), forest_y_score[3].ravel())\n",
    "#AUC值\n",
    "auc1 = metrics.auc(forest_fpr1, forest_tpr1)\n",
    "auc2 = metrics.auc(forest_fpr2, forest_tpr2)\n",
    "auc3 = metrics.auc(forest_fpr3, forest_tpr3)\n",
    "auc4 = metrics.auc(forest_fpr4, forest_tpr4)\n",
    "\n",
    "print (\"label—0目标属性AUC值：\", auc1)\n",
    "print (\"label—1目标属性AUC值：\", auc2)\n",
    "print (\"label—2目标属性AUC值：\", auc3)\n",
    "print (\"label—3目标属性AUC值：\", auc4)"
   ]
  },
  {
   "cell_type": "code",
   "execution_count": 219,
   "metadata": {},
   "outputs": [
    {
     "data": {
      "image/png": "[encoded data removed]",
      "text/plain": [
       "<Figure size 576x432 with 1 Axes>"
      ]
     },
     "metadata": {},
     "output_type": "display_data"
    }
   ],
   "source": [
    "## 8. 画图（ROC图）\n",
    "plt.figure(figsize=(8, 6), facecolor='w')\n",
    "plt.plot(forest_fpr1,forest_tpr1,c='r',lw=2,label=u'label—0目标属性AUC值,AUC=%.3f' % auc1)\n",
    "plt.plot(forest_fpr2,forest_tpr2,c='b',lw=2,label=u'label—1目标属性AUC值,AUC=%.3f' % auc2)\n",
    "plt.plot(forest_fpr3,forest_tpr3,c='g',lw=2,label=u'label—2目标属性AUC值,AUC=%.3f' % auc3)\n",
    "plt.plot(forest_fpr4,forest_tpr4,c='y',lw=2,label=u'label—3目标属性AUC值,AUC=%.3f' % auc4)\n",
    "plt.plot((0,1),(0,1),c='#a0a0a0',lw=2,ls='--')\n",
    "plt.xlim(-0.001, 1.001)\n",
    "plt.ylim(-0.001, 1.001)\n",
    "plt.xticks(np.arange(0, 1.1, 0.1))\n",
    "plt.yticks(np.arange(0, 1.1, 0.1))\n",
    "plt.xlabel('False Positive Rate(FPR)', fontsize=16)\n",
    "plt.ylabel('True Positive Rate(TPR)', fontsize=16)\n",
    "plt.grid(b=True, ls=':')\n",
    "plt.legend(loc='lower right', fancybox=True, framealpha=0.8, fontsize=12)\n",
    "plt.title(u'随机森林多目标属性分类ROC曲线', fontsize=18)\n",
    "plt.show()"
   ]
  },
  {
   "cell_type": "code",
   "execution_count": null,
   "metadata": {},
   "outputs": [],
   "source": []
  },
  {
   "cell_type": "code",
   "execution_count": null,
   "metadata": {},
   "outputs": [],
   "source": []
  }
 ],
 "metadata": {
  "kernelspec": {
   "display_name": "Python 3",
   "language": "python",
   "name": "python3"
  },
  "language_info": {
   "codemirror_mode": {
    "name": "ipython",
    "version": 3
   },
   "file_extension": ".py",
   "mimetype": "text/x-python",
   "name": "python",
   "nbconvert_exporter": "python",
   "pygments_lexer": "ipython3",
   "version": "3.6.4"
  }
 },
 "nbformat": 4,
 "nbformat_minor": 2
}
